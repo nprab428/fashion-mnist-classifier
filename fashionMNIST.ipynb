{
 "cells": [
  {
   "cell_type": "markdown",
   "metadata": {},
   "source": [
    "## Classifying Fashion-MNIST\n",
    "This script builds a convolutional neural network model to classify the [fashion-MNIST](https://research.zalando.com/welcome/mission/research-projects/fashion-mnist/) dataset using [PyTorch](https://pytorch.org/docs/stable/index.html)."
   ]
  },
  {
   "cell_type": "code",
   "execution_count": null,
   "metadata": {},
   "outputs": [],
   "source": [
    "import numpy as np\n",
    "import torch\n",
    "import torch.nn as nn\n",
    "import torch.nn.functional as F\n",
    "import torch.optim as optim\n",
    "from torchvision import datasets, transforms\n",
    "import pandas as pd"
   ]
  },
  {
   "cell_type": "code",
   "execution_count": null,
   "metadata": {},
   "outputs": [],
   "source": [
    "# import training data\n",
    "device = torch.device(\"cuda\" if torch.cuda.is_available() else \"cpu\")\n",
    "train_data = np.load(\"./data/fashionmnist_train.npy\".format(dataset_prefix))\n",
    "train_labels = torch.from_numpy(train_data[:, -1]).long().to(device)\n",
    "\n",
    "# convert data into TensorDataset format\n",
    "train_images_np = train_data[:, :-1].reshape(-1, 1, 28, 28)\n",
    "train_images_np.shape # (60000, 1, 28, 28)\n",
    "train_images = torch.from_numpy(train_images_np).float().to(device)\n",
    "train_dataset = torch.utils.data.TensorDataset(train_images, train_labels)"
   ]
  },
  {
   "cell_type": "code",
   "execution_count": null,
   "metadata": {},
   "outputs": [],
   "source": [
    "# Define a model based on ConvNet\n",
    "class Net(nn.Module):\n",
    "    def __init__(self):\n",
    "        super(Net, self).__init__()\n",
    "        # ----\n",
    "        # layers for cnn listed in order:\n",
    "        self.conv1 = nn.Conv2d(1, 20, 5, 1)\n",
    "        self.max_pool1 = nn.MaxPool2d(2)\n",
    "        # relu\n",
    "        self.conv2 = nn.Conv2d(20, 50, 5, 1)\n",
    "        self.max_pool2 = nn.MaxPool2d(2)\n",
    "        self.fc1 = nn.Linear(4*4*50, 500)\n",
    "        # relu\n",
    "        self.fc2 = nn.Linear(500, 10)\n",
    "        # softmax\n",
    "        # -----\n",
    "\n",
    "        # activation functions\n",
    "        self.relu = nn.ReLU()\n",
    "        self.softmax = nn.LogSoftmax(dim=1)\n",
    "\n",
    "    def forward(self, x):\n",
    "        # initial image\n",
    "        # x:= 1 * 28 * 28\n",
    "        \n",
    "        # keep track of dims for each layer\n",
    "        x = self.conv1(x) # 28 * 28 -> (28+1-5) => 20 * 24 * 24\n",
    "        x = self.max_pool1(x) # 24 / 2 => 20 * 12 * 12\n",
    "        x = self.relu(x) # => 20 * 12 * 12\n",
    "        x = self.conv2(x) # 12 * 12 -> (12+1-5) = 50 * 8 * 8\n",
    "        x = self.max_pool2(x) # 8 / 2 => 50 * 4 * 4\n",
    "        x = x.view(-1, 4*4*50) # 1 row of (50 * 4 * 4)\n",
    "        x = self.fc1(x) # => 500\n",
    "        x = self.relu(x) # => 500\n",
    "        x = self.fc2(x) # => 10\n",
    "        x = self.softmax(x) # => 10\n",
    "\n",
    "        return x"
   ]
  },
  {
   "cell_type": "code",
   "execution_count": null,
   "metadata": {},
   "outputs": [],
   "source": [
    "def train(model, device, train_loader, optimizer, epoch):\n",
    "    model.train()\n",
    "    for idx, (data, target) in enumerate(train_loader):\n",
    "        data, target = data.to(device), target.to(device)\n",
    "\n",
    "        pred = model(data)\n",
    "        loss = F.cross_entropy(pred, target)\n",
    "\n",
    "        # perform stochastic gradient descent (SGD)\n",
    "        optimizer.zero_grad()\n",
    "        loss.backward()\n",
    "        optimizer.step()\n",
    "\n",
    "    print(f'Train Epoch: {epoch}, Loss: {loss.item()}')"
   ]
  },
  {
   "cell_type": "code",
   "execution_count": null,
   "metadata": {},
   "outputs": [],
   "source": [
    "# train model\n",
    "batch_size = 32\n",
    "train_dataloader = torch.utils.data.DataLoader(\n",
    "    train_dataset,\n",
    "    batch_size=batch_size, shuffle=True,\n",
    "    num_workers=1, pin_memory=True\n",
    ")\n",
    "\n",
    "lr = 0.03 # empirically set\n",
    "momentum  = 0.2 # empirically set\n",
    "model = Net().to(device)\n",
    "optimizer = torch.optim.SGD(model.parameters(), lr=lr, momentum=momentum)\n",
    "\n",
    "num_epochs = 20 \n",
    "for epoch in range(num_epochs):\n",
    "    train(model, device, train_dataloader, optimizer, epoch)"
   ]
  },
  {
   "cell_type": "code",
   "execution_count": null,
   "metadata": {},
   "outputs": [],
   "source": [
    "# use model to classify test images\n",
    "test_data = np.load(\"./data/fashionmnist_test.npy\".format(dataset_prefix))\n",
    "test_images_np = test_data.reshape(-1, 1, 28, 28)\n",
    "test_images_np.shape\n",
    "test_dataset = torch.from_numpy(test_images_np).float().to(device)\n",
    "test_dataloader = torch.utils.data.DataLoader(\n",
    "    test_dataset,\n",
    "    batch_size=1, shuffle=False,\n",
    "    num_workers=1, pin_memory=True\n",
    ")\n",
    "\n",
    "results = np.empty(10000)\n",
    "\n",
    "def classify_test(model, device, test_loader):\n",
    "    model.eval()\n",
    "    with torch.no_grad():\n",
    "        for idx, data in enumerate(test_loader):\n",
    "            data = data.to(device)\n",
    "            output = model(data)\n",
    "            pred = output.argmax(dim=1)\n",
    "            results[idx] = pred.item()\n",
    "\n",
    "classify_test(model, device, test_dataloader)"
   ]
  },
  {
   "cell_type": "code",
   "execution_count": null,
   "metadata": {},
   "outputs": [],
   "source": [
    "# write test results to csv (to submit to kaggle competition)\n",
    "results = results.astype(int)\n",
    "pd.DataFrame(results).to_csv('fashionmnist_test.csv', index_label='Id', header=['Category'])"
   ]
  }
 ],
 "metadata": {
  "anaconda-cloud": {},
  "kernelspec": {
   "display_name": "Python 3",
   "language": "python",
   "name": "python3"
  },
  "language_info": {
   "codemirror_mode": {
    "name": "ipython",
    "version": 3
   },
   "file_extension": ".py",
   "mimetype": "text/x-python",
   "name": "python",
   "nbconvert_exporter": "python",
   "pygments_lexer": "ipython3",
   "version": "3.7.5"
  }
 },
 "nbformat": 4,
 "nbformat_minor": 2
}
